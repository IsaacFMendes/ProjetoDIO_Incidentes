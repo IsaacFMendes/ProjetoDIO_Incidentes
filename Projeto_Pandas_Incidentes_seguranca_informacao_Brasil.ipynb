{
  "cells": [
    {
      "cell_type": "code",
      "execution_count": 1,
      "metadata": {
        "id": "Nj3DTFp6v9Sh"
      },
      "outputs": [],
      "source": [
        "# Importando os pacotes necessários\n",
        "\n",
        "import pandas as pd\n",
        "import matplotlib.pyplot as plt\n",
        "import seaborn as sns\n",
        "\n",
        "\n",
        "%matplotlib inline"
      ]
    },
    {
      "cell_type": "code",
      "execution_count": 2,
      "metadata": {
        "id": "KQN1NMg8x0CO"
      },
      "outputs": [],
      "source": [
        "# Importando o arquivo cert_2010-2019.csv para um DataFrame\n",
        "\n",
        "df = pd.read_csv(\"/content/drive/MyDrive/Datasets/cert_2010-2019.csv\", sep=\";\")"
      ]
    },
    {
      "cell_type": "markdown",
      "metadata": {
        "id": "Lw1zwer407Ds"
      },
      "source": [
        "## Análise dos Dados"
      ]
    },
    {
      "cell_type": "markdown",
      "metadata": {
        "id": "2aea03uQz3wO"
      },
      "source": [
        "\n",
        "\n",
        "Esta etapa tem como objetivo criar uma consciência situcional e permitir um entendimento de como os dados estão estruturados.\n",
        "\n",
        "\n",
        "**Dicionários das variáveis**\n",
        "\n",
        "* `Incidentes` - Total de incidentes reportados\n",
        "* `Ameaças` -  Tipo de ameaças\n"
      ]
    },
    {
      "cell_type": "code",
      "execution_count": 3,
      "metadata": {
        "colab": {
          "base_uri": "https://localhost:8080/",
          "height": 206
        },
        "id": "UK1l_4Ym1I_M",
        "outputId": "c43e7be7-f86e-4fdf-bd8f-0983b0e539c7"
      },
      "outputs": [
        {
          "data": {
            "text/html": [
              "\n",
              "  <div id=\"df-b6395a4f-7ce4-47ab-8d45-68f04ef9d2d0\">\n",
              "    <div class=\"colab-df-container\">\n",
              "      <div>\n",
              "<style scoped>\n",
              "    .dataframe tbody tr th:only-of-type {\n",
              "        vertical-align: middle;\n",
              "    }\n",
              "\n",
              "    .dataframe tbody tr th {\n",
              "        vertical-align: top;\n",
              "    }\n",
              "\n",
              "    .dataframe thead th {\n",
              "        text-align: right;\n",
              "    }\n",
              "</style>\n",
              "<table border=\"1\" class=\"dataframe\">\n",
              "  <thead>\n",
              "    <tr style=\"text-align: right;\">\n",
              "      <th></th>\n",
              "      <th>Ano</th>\n",
              "      <th>Mes</th>\n",
              "      <th>Total</th>\n",
              "      <th>Worm</th>\n",
              "      <th>DOS</th>\n",
              "      <th>Invasao</th>\n",
              "      <th>Web</th>\n",
              "      <th>Scan</th>\n",
              "      <th>Fraude</th>\n",
              "      <th>Outros</th>\n",
              "    </tr>\n",
              "  </thead>\n",
              "  <tbody>\n",
              "    <tr>\n",
              "      <th>0</th>\n",
              "      <td>2019</td>\n",
              "      <td>Janeiro</td>\n",
              "      <td>62481</td>\n",
              "      <td>7796</td>\n",
              "      <td>4191</td>\n",
              "      <td>19</td>\n",
              "      <td>2594</td>\n",
              "      <td>46038</td>\n",
              "      <td>1744</td>\n",
              "      <td>99</td>\n",
              "    </tr>\n",
              "    <tr>\n",
              "      <th>1</th>\n",
              "      <td>2019</td>\n",
              "      <td>Fevereiro</td>\n",
              "      <td>70069</td>\n",
              "      <td>7707</td>\n",
              "      <td>2192</td>\n",
              "      <td>27</td>\n",
              "      <td>4179</td>\n",
              "      <td>54401</td>\n",
              "      <td>1459</td>\n",
              "      <td>104</td>\n",
              "    </tr>\n",
              "    <tr>\n",
              "      <th>2</th>\n",
              "      <td>2019</td>\n",
              "      <td>Março</td>\n",
              "      <td>85409</td>\n",
              "      <td>4476</td>\n",
              "      <td>29309</td>\n",
              "      <td>19</td>\n",
              "      <td>2006</td>\n",
              "      <td>47966</td>\n",
              "      <td>1521</td>\n",
              "      <td>112</td>\n",
              "    </tr>\n",
              "    <tr>\n",
              "      <th>3</th>\n",
              "      <td>2019</td>\n",
              "      <td>Abril</td>\n",
              "      <td>59900</td>\n",
              "      <td>7624</td>\n",
              "      <td>2718</td>\n",
              "      <td>37</td>\n",
              "      <td>1555</td>\n",
              "      <td>45774</td>\n",
              "      <td>2119</td>\n",
              "      <td>73</td>\n",
              "    </tr>\n",
              "    <tr>\n",
              "      <th>4</th>\n",
              "      <td>2019</td>\n",
              "      <td>Maio</td>\n",
              "      <td>52129</td>\n",
              "      <td>6555</td>\n",
              "      <td>15773</td>\n",
              "      <td>74</td>\n",
              "      <td>1425</td>\n",
              "      <td>25521</td>\n",
              "      <td>2633</td>\n",
              "      <td>148</td>\n",
              "    </tr>\n",
              "  </tbody>\n",
              "</table>\n",
              "</div>\n",
              "      <button class=\"colab-df-convert\" onclick=\"convertToInteractive('df-b6395a4f-7ce4-47ab-8d45-68f04ef9d2d0')\"\n",
              "              title=\"Convert this dataframe to an interactive table.\"\n",
              "              style=\"display:none;\">\n",
              "        \n",
              "  <svg xmlns=\"http://www.w3.org/2000/svg\" height=\"24px\"viewBox=\"0 0 24 24\"\n",
              "       width=\"24px\">\n",
              "    <path d=\"M0 0h24v24H0V0z\" fill=\"none\"/>\n",
              "    <path d=\"M18.56 5.44l.94 2.06.94-2.06 2.06-.94-2.06-.94-.94-2.06-.94 2.06-2.06.94zm-11 1L8.5 8.5l.94-2.06 2.06-.94-2.06-.94L8.5 2.5l-.94 2.06-2.06.94zm10 10l.94 2.06.94-2.06 2.06-.94-2.06-.94-.94-2.06-.94 2.06-2.06.94z\"/><path d=\"M17.41 7.96l-1.37-1.37c-.4-.4-.92-.59-1.43-.59-.52 0-1.04.2-1.43.59L10.3 9.45l-7.72 7.72c-.78.78-.78 2.05 0 2.83L4 21.41c.39.39.9.59 1.41.59.51 0 1.02-.2 1.41-.59l7.78-7.78 2.81-2.81c.8-.78.8-2.07 0-2.86zM5.41 20L4 18.59l7.72-7.72 1.47 1.35L5.41 20z\"/>\n",
              "  </svg>\n",
              "      </button>\n",
              "      \n",
              "  <style>\n",
              "    .colab-df-container {\n",
              "      display:flex;\n",
              "      flex-wrap:wrap;\n",
              "      gap: 12px;\n",
              "    }\n",
              "\n",
              "    .colab-df-convert {\n",
              "      background-color: #E8F0FE;\n",
              "      border: none;\n",
              "      border-radius: 50%;\n",
              "      cursor: pointer;\n",
              "      display: none;\n",
              "      fill: #1967D2;\n",
              "      height: 32px;\n",
              "      padding: 0 0 0 0;\n",
              "      width: 32px;\n",
              "    }\n",
              "\n",
              "    .colab-df-convert:hover {\n",
              "      background-color: #E2EBFA;\n",
              "      box-shadow: 0px 1px 2px rgba(60, 64, 67, 0.3), 0px 1px 3px 1px rgba(60, 64, 67, 0.15);\n",
              "      fill: #174EA6;\n",
              "    }\n",
              "\n",
              "    [theme=dark] .colab-df-convert {\n",
              "      background-color: #3B4455;\n",
              "      fill: #D2E3FC;\n",
              "    }\n",
              "\n",
              "    [theme=dark] .colab-df-convert:hover {\n",
              "      background-color: #434B5C;\n",
              "      box-shadow: 0px 1px 3px 1px rgba(0, 0, 0, 0.15);\n",
              "      filter: drop-shadow(0px 1px 2px rgba(0, 0, 0, 0.3));\n",
              "      fill: #FFFFFF;\n",
              "    }\n",
              "  </style>\n",
              "\n",
              "      <script>\n",
              "        const buttonEl =\n",
              "          document.querySelector('#df-b6395a4f-7ce4-47ab-8d45-68f04ef9d2d0 button.colab-df-convert');\n",
              "        buttonEl.style.display =\n",
              "          google.colab.kernel.accessAllowed ? 'block' : 'none';\n",
              "\n",
              "        async function convertToInteractive(key) {\n",
              "          const element = document.querySelector('#df-b6395a4f-7ce4-47ab-8d45-68f04ef9d2d0');\n",
              "          const dataTable =\n",
              "            await google.colab.kernel.invokeFunction('convertToInteractive',\n",
              "                                                     [key], {});\n",
              "          if (!dataTable) return;\n",
              "\n",
              "          const docLinkHtml = 'Like what you see? Visit the ' +\n",
              "            '<a target=\"_blank\" href=https://colab.research.google.com/notebooks/data_table.ipynb>data table notebook</a>'\n",
              "            + ' to learn more about interactive tables.';\n",
              "          element.innerHTML = '';\n",
              "          dataTable['output_type'] = 'display_data';\n",
              "          await google.colab.output.renderOutput(dataTable, element);\n",
              "          const docLink = document.createElement('div');\n",
              "          docLink.innerHTML = docLinkHtml;\n",
              "          element.appendChild(docLink);\n",
              "        }\n",
              "      </script>\n",
              "    </div>\n",
              "  </div>\n",
              "  "
            ],
            "text/plain": [
              "    Ano        Mes  Total  Worm    DOS  Invasao   Web   Scan  Fraude  Outros\n",
              "0  2019    Janeiro  62481  7796   4191       19  2594  46038    1744      99\n",
              "1  2019  Fevereiro  70069  7707   2192       27  4179  54401    1459     104\n",
              "2  2019      Março  85409  4476  29309       19  2006  47966    1521     112\n",
              "3  2019      Abril  59900  7624   2718       37  1555  45774    2119      73\n",
              "4  2019       Maio  52129  6555  15773       74  1425  25521    2633     148"
            ]
          },
          "execution_count": 3,
          "metadata": {},
          "output_type": "execute_result"
        }
      ],
      "source": [
        "# Mostrar as 5 primeiras entradas \n",
        "df.head()\n"
      ]
    },
    {
      "cell_type": "markdown",
      "metadata": {
        "id": "5DXsah025WSL"
      },
      "source": [
        "## Identificando quantos atributos e quantas entradas o nosso conjunto de dados possui. Em seguida, verificando quais os tipos das variáveis.\n",
        "\n",
        "Vale a pena salientar, que esse conjunto mencionado foi baixado da platadorma Kaggle, considerada a maior comunidade da internet, para assuntos relacionado com Data Science. Hoje, ela conta com mais de 536 mil menbros ativos, apresentando tutoriais, competições, rankings, cursos, dicas, fóruns, datasets e muito mais.\n",
        "\n",
        "\n",
        "\n"
      ]
    },
    {
      "cell_type": "code",
      "execution_count": 4,
      "metadata": {
        "colab": {
          "base_uri": "https://localhost:8080/",
          "height": 260
        },
        "id": "K6vb4D_78Kz4",
        "outputId": "109b59a1-f50a-43db-8857-66a93ff4ba0a"
      },
      "outputs": [
        {
          "name": "stdout",
          "output_type": "stream",
          "text": [
            "Entrada: \t 120\n",
            "Variáveis: \t 10\n",
            "\t\n"
          ]
        },
        {
          "data": {
            "text/plain": [
              "Ano         int64\n",
              "Mes        object\n",
              "Total       int64\n",
              "Worm        int64\n",
              "DOS         int64\n",
              "Invasao     int64\n",
              "Web         int64\n",
              "Scan        int64\n",
              "Fraude      int64\n",
              "Outros      int64\n",
              "dtype: object"
            ]
          },
          "metadata": {},
          "output_type": "display_data"
        }
      ],
      "source": [
        "# Identidicando o volume de dados do DataFrame\n",
        "\n",
        "print(\"Entrada: \\t {}\".format(df.shape[0]))\n",
        "print(\"Variáveis: \\t {}\".format(df.shape[1]))\n",
        "print(\"\\t\")\n",
        "\n",
        "# Verificando o tipo de cada variável no dataset\n",
        "display(df.dtypes)\n"
      ]
    },
    {
      "cell_type": "markdown",
      "metadata": {
        "id": "sPH-Qm2Tyqrb"
      },
      "source": [
        "## Covertendo a coluna \"Ano\" tipo inteiro para objeto."
      ]
    },
    {
      "cell_type": "code",
      "execution_count": 5,
      "metadata": {
        "colab": {
          "base_uri": "https://localhost:8080/",
          "height": 208
        },
        "id": "CPO4nT5qBMiD",
        "outputId": "b578e0b2-a1f5-4292-e945-f1d94f4086c3"
      },
      "outputs": [
        {
          "data": {
            "text/plain": [
              "Ano        object\n",
              "Mes        object\n",
              "Total       int64\n",
              "Worm        int64\n",
              "DOS         int64\n",
              "Invasao     int64\n",
              "Web         int64\n",
              "Scan        int64\n",
              "Fraude      int64\n",
              "Outros      int64\n",
              "dtype: object"
            ]
          },
          "metadata": {},
          "output_type": "display_data"
        }
      ],
      "source": [
        "# Convertendo a coluna Ano para objeto\n",
        "\n",
        "df[\"Ano\"] = df[\"Ano\"].astype(\"object\")\n",
        "\n",
        "#Exibindo novamente o tipo de cada variável\n",
        "\n",
        "display(df.dtypes)"
      ]
    },
    {
      "cell_type": "markdown",
      "metadata": {
        "id": "EnI4GoWOKAcI"
      },
      "source": [
        "## Verificando se há valores ausentes no DataFrame"
      ]
    },
    {
      "cell_type": "code",
      "execution_count": 6,
      "metadata": {
        "colab": {
          "base_uri": "https://localhost:8080/"
        },
        "id": "d1E_UfPkKMkM",
        "outputId": "ac13ee92-1631-415a-88a9-2a544ff5b98e"
      },
      "outputs": [
        {
          "data": {
            "text/plain": [
              "Ano        0\n",
              "Mes        0\n",
              "Total      0\n",
              "Worm       0\n",
              "DOS        0\n",
              "Invasao    0\n",
              "Web        0\n",
              "Scan       0\n",
              "Fraude     0\n",
              "Outros     0\n",
              "dtype: int64"
            ]
          },
          "execution_count": 6,
          "metadata": {},
          "output_type": "execute_result"
        }
      ],
      "source": [
        "df.isnull().sum()"
      ]
    },
    {
      "cell_type": "markdown",
      "metadata": {
        "id": "RlQlhLo7PW4P"
      },
      "source": [
        "## Relação entre Ano e Total de Incidentes de Segurança da Informação"
      ]
    },
    {
      "cell_type": "code",
      "execution_count": 7,
      "metadata": {
        "colab": {
          "base_uri": "https://localhost:8080/"
        },
        "id": "3K17vPPnPZo2",
        "outputId": "bcd97711-5c60-4060-844f-5a99d3354fd3"
      },
      "outputs": [
        {
          "data": {
            "text/plain": [
              "Ano\n",
              "2010     142844\n",
              "2011     399515\n",
              "2012     466029\n",
              "2013     352925\n",
              "2014    1047031\n",
              "2015     722205\n",
              "2016     647112\n",
              "2017     833775\n",
              "2018     676514\n",
              "2019     875327\n",
              "Name: Total, dtype: int64"
            ]
          },
          "execution_count": 7,
          "metadata": {},
          "output_type": "execute_result"
        }
      ],
      "source": [
        "df.groupby(\"Ano\")[\"Total\"].sum()\n"
      ]
    },
    {
      "cell_type": "markdown",
      "metadata": {
        "id": "haFkgL7gaIie"
      },
      "source": [
        "## Plotando essa relação (Ano x Incidentes de Segurança)"
      ]
    },
    {
      "cell_type": "code",
      "execution_count": 8,
      "metadata": {
        "colab": {
          "base_uri": "https://localhost:8080/",
          "height": 311
        },
        "id": "foUCmpQrPhym",
        "outputId": "bfe3db0b-1dee-4ee9-cb64-ce7491fe8e04"
      },
      "outputs": [
        {
          "data": {
            "image/png": "[encoded data removed]",
            "text/plain": [
              "<Figure size 432x288 with 1 Axes>"
            ]
          },
          "metadata": {
            "needs_background": "light"
          },
          "output_type": "display_data"
        }
      ],
      "source": [
        "df.groupby(\"Ano\")[\"Total\"].sum().plot.bar(title= \"Total de Incidentes de Segurança da Informação por Ano no Brasil\");\n"
      ]
    },
    {
      "cell_type": "markdown",
      "metadata": {
        "id": "s-uFNwtVaaQH"
      },
      "source": [
        "## Filtrando os incidentes apenas dos anos de 2014 e retirando a variável \"Total\" do dataframe"
      ]
    },
    {
      "cell_type": "code",
      "execution_count": 9,
      "metadata": {
        "colab": {
          "base_uri": "https://localhost:8080/",
          "height": 206
        },
        "id": "ZpFv65cfpjhy",
        "outputId": "150841ac-e61c-4e90-c050-4d9823ac21f7"
      },
      "outputs": [
        {
          "data": {
            "text/html": [
              "\n",
              "  <div id=\"df-4e4a2fca-71d2-4f52-9867-ae3aa9591e90\">\n",
              "    <div class=\"colab-df-container\">\n",
              "      <div>\n",
              "<style scoped>\n",
              "    .dataframe tbody tr th:only-of-type {\n",
              "        vertical-align: middle;\n",
              "    }\n",
              "\n",
              "    .dataframe tbody tr th {\n",
              "        vertical-align: top;\n",
              "    }\n",
              "\n",
              "    .dataframe thead th {\n",
              "        text-align: right;\n",
              "    }\n",
              "</style>\n",
              "<table border=\"1\" class=\"dataframe\">\n",
              "  <thead>\n",
              "    <tr style=\"text-align: right;\">\n",
              "      <th></th>\n",
              "      <th>Ano</th>\n",
              "      <th>Mes</th>\n",
              "      <th>Worm</th>\n",
              "      <th>DOS</th>\n",
              "      <th>Invasao</th>\n",
              "      <th>Web</th>\n",
              "      <th>Scan</th>\n",
              "      <th>Fraude</th>\n",
              "      <th>Outros</th>\n",
              "    </tr>\n",
              "  </thead>\n",
              "  <tbody>\n",
              "    <tr>\n",
              "      <th>60</th>\n",
              "      <td>2014</td>\n",
              "      <td>Janeiro</td>\n",
              "      <td>2853</td>\n",
              "      <td>6539</td>\n",
              "      <td>590</td>\n",
              "      <td>1267</td>\n",
              "      <td>13916</td>\n",
              "      <td>7248</td>\n",
              "      <td>1546</td>\n",
              "    </tr>\n",
              "    <tr>\n",
              "      <th>61</th>\n",
              "      <td>2014</td>\n",
              "      <td>Fevereiro</td>\n",
              "      <td>4163</td>\n",
              "      <td>6190</td>\n",
              "      <td>764</td>\n",
              "      <td>1434</td>\n",
              "      <td>19862</td>\n",
              "      <td>9616</td>\n",
              "      <td>1198</td>\n",
              "    </tr>\n",
              "    <tr>\n",
              "      <th>62</th>\n",
              "      <td>2014</td>\n",
              "      <td>Março</td>\n",
              "      <td>9238</td>\n",
              "      <td>2829</td>\n",
              "      <td>780</td>\n",
              "      <td>1253</td>\n",
              "      <td>22471</td>\n",
              "      <td>7780</td>\n",
              "      <td>1457</td>\n",
              "    </tr>\n",
              "    <tr>\n",
              "      <th>63</th>\n",
              "      <td>2014</td>\n",
              "      <td>Abril</td>\n",
              "      <td>3513</td>\n",
              "      <td>1505</td>\n",
              "      <td>1559</td>\n",
              "      <td>1900</td>\n",
              "      <td>23320</td>\n",
              "      <td>8562</td>\n",
              "      <td>1174</td>\n",
              "    </tr>\n",
              "    <tr>\n",
              "      <th>64</th>\n",
              "      <td>2014</td>\n",
              "      <td>Maio</td>\n",
              "      <td>2857</td>\n",
              "      <td>8383</td>\n",
              "      <td>293</td>\n",
              "      <td>1997</td>\n",
              "      <td>20756</td>\n",
              "      <td>12962</td>\n",
              "      <td>1317</td>\n",
              "    </tr>\n",
              "  </tbody>\n",
              "</table>\n",
              "</div>\n",
              "      <button class=\"colab-df-convert\" onclick=\"convertToInteractive('df-4e4a2fca-71d2-4f52-9867-ae3aa9591e90')\"\n",
              "              title=\"Convert this dataframe to an interactive table.\"\n",
              "              style=\"display:none;\">\n",
              "        \n",
              "  <svg xmlns=\"http://www.w3.org/2000/svg\" height=\"24px\"viewBox=\"0 0 24 24\"\n",
              "       width=\"24px\">\n",
              "    <path d=\"M0 0h24v24H0V0z\" fill=\"none\"/>\n",
              "    <path d=\"M18.56 5.44l.94 2.06.94-2.06 2.06-.94-2.06-.94-.94-2.06-.94 2.06-2.06.94zm-11 1L8.5 8.5l.94-2.06 2.06-.94-2.06-.94L8.5 2.5l-.94 2.06-2.06.94zm10 10l.94 2.06.94-2.06 2.06-.94-2.06-.94-.94-2.06-.94 2.06-2.06.94z\"/><path d=\"M17.41 7.96l-1.37-1.37c-.4-.4-.92-.59-1.43-.59-.52 0-1.04.2-1.43.59L10.3 9.45l-7.72 7.72c-.78.78-.78 2.05 0 2.83L4 21.41c.39.39.9.59 1.41.59.51 0 1.02-.2 1.41-.59l7.78-7.78 2.81-2.81c.8-.78.8-2.07 0-2.86zM5.41 20L4 18.59l7.72-7.72 1.47 1.35L5.41 20z\"/>\n",
              "  </svg>\n",
              "      </button>\n",
              "      \n",
              "  <style>\n",
              "    .colab-df-container {\n",
              "      display:flex;\n",
              "      flex-wrap:wrap;\n",
              "      gap: 12px;\n",
              "    }\n",
              "\n",
              "    .colab-df-convert {\n",
              "      background-color: #E8F0FE;\n",
              "      border: none;\n",
              "      border-radius: 50%;\n",
              "      cursor: pointer;\n",
              "      display: none;\n",
              "      fill: #1967D2;\n",
              "      height: 32px;\n",
              "      padding: 0 0 0 0;\n",
              "      width: 32px;\n",
              "    }\n",
              "\n",
              "    .colab-df-convert:hover {\n",
              "      background-color: #E2EBFA;\n",
              "      box-shadow: 0px 1px 2px rgba(60, 64, 67, 0.3), 0px 1px 3px 1px rgba(60, 64, 67, 0.15);\n",
              "      fill: #174EA6;\n",
              "    }\n",
              "\n",
              "    [theme=dark] .colab-df-convert {\n",
              "      background-color: #3B4455;\n",
              "      fill: #D2E3FC;\n",
              "    }\n",
              "\n",
              "    [theme=dark] .colab-df-convert:hover {\n",
              "      background-color: #434B5C;\n",
              "      box-shadow: 0px 1px 3px 1px rgba(0, 0, 0, 0.15);\n",
              "      filter: drop-shadow(0px 1px 2px rgba(0, 0, 0, 0.3));\n",
              "      fill: #FFFFFF;\n",
              "    }\n",
              "  </style>\n",
              "\n",
              "      <script>\n",
              "        const buttonEl =\n",
              "          document.querySelector('#df-4e4a2fca-71d2-4f52-9867-ae3aa9591e90 button.colab-df-convert');\n",
              "        buttonEl.style.display =\n",
              "          google.colab.kernel.accessAllowed ? 'block' : 'none';\n",
              "\n",
              "        async function convertToInteractive(key) {\n",
              "          const element = document.querySelector('#df-4e4a2fca-71d2-4f52-9867-ae3aa9591e90');\n",
              "          const dataTable =\n",
              "            await google.colab.kernel.invokeFunction('convertToInteractive',\n",
              "                                                     [key], {});\n",
              "          if (!dataTable) return;\n",
              "\n",
              "          const docLinkHtml = 'Like what you see? Visit the ' +\n",
              "            '<a target=\"_blank\" href=https://colab.research.google.com/notebooks/data_table.ipynb>data table notebook</a>'\n",
              "            + ' to learn more about interactive tables.';\n",
              "          element.innerHTML = '';\n",
              "          dataTable['output_type'] = 'display_data';\n",
              "          await google.colab.output.renderOutput(dataTable, element);\n",
              "          const docLink = document.createElement('div');\n",
              "          docLink.innerHTML = docLinkHtml;\n",
              "          element.appendChild(docLink);\n",
              "        }\n",
              "      </script>\n",
              "    </div>\n",
              "  </div>\n",
              "  "
            ],
            "text/plain": [
              "     Ano        Mes  Worm   DOS  Invasao   Web   Scan  Fraude  Outros\n",
              "60  2014    Janeiro  2853  6539      590  1267  13916    7248    1546\n",
              "61  2014  Fevereiro  4163  6190      764  1434  19862    9616    1198\n",
              "62  2014      Março  9238  2829      780  1253  22471    7780    1457\n",
              "63  2014      Abril  3513  1505     1559  1900  23320    8562    1174\n",
              "64  2014       Maio  2857  8383      293  1997  20756   12962    1317"
            ]
          },
          "execution_count": 9,
          "metadata": {},
          "output_type": "execute_result"
        }
      ],
      "source": [
        "incidentes_2014 = df.loc[df.Ano == 2014]\n",
        "incidentes_2014 = incidentes_2014.drop([\"Total\"], axis = 1)\n",
        "incidentes_2014.head()"
      ]
    },
    {
      "cell_type": "markdown",
      "metadata": {
        "id": "JlT6zKHkatMG"
      },
      "source": [
        "## Para facilitar o entendimentos dos dados, foi feita uma adequação dos dados, onde foi inserido os tipo de ameaças na coluna \"Ameaças\" e o total de incidentes na coluna \"Incidentes\"."
      ]
    },
    {
      "cell_type": "code",
      "execution_count": 10,
      "metadata": {
        "colab": {
          "base_uri": "https://localhost:8080/",
          "height": 424
        },
        "id": "fAHLPGserT6s",
        "outputId": "900bb029-c34b-4220-ad3d-f242cc876a2e"
      },
      "outputs": [
        {
          "data": {
            "text/html": [
              "\n",
              "  <div id=\"df-6a743b5c-9d7f-4499-9aa1-a1ffc5333f23\">\n",
              "    <div class=\"colab-df-container\">\n",
              "      <div>\n",
              "<style scoped>\n",
              "    .dataframe tbody tr th:only-of-type {\n",
              "        vertical-align: middle;\n",
              "    }\n",
              "\n",
              "    .dataframe tbody tr th {\n",
              "        vertical-align: top;\n",
              "    }\n",
              "\n",
              "    .dataframe thead th {\n",
              "        text-align: right;\n",
              "    }\n",
              "</style>\n",
              "<table border=\"1\" class=\"dataframe\">\n",
              "  <thead>\n",
              "    <tr style=\"text-align: right;\">\n",
              "      <th></th>\n",
              "      <th>Ano</th>\n",
              "      <th>Mes</th>\n",
              "      <th>Ameaças</th>\n",
              "      <th>Incidentes</th>\n",
              "    </tr>\n",
              "  </thead>\n",
              "  <tbody>\n",
              "    <tr>\n",
              "      <th>0</th>\n",
              "      <td>2014</td>\n",
              "      <td>Janeiro</td>\n",
              "      <td>Worm</td>\n",
              "      <td>2853</td>\n",
              "    </tr>\n",
              "    <tr>\n",
              "      <th>1</th>\n",
              "      <td>2014</td>\n",
              "      <td>Fevereiro</td>\n",
              "      <td>Worm</td>\n",
              "      <td>4163</td>\n",
              "    </tr>\n",
              "    <tr>\n",
              "      <th>2</th>\n",
              "      <td>2014</td>\n",
              "      <td>Março</td>\n",
              "      <td>Worm</td>\n",
              "      <td>9238</td>\n",
              "    </tr>\n",
              "    <tr>\n",
              "      <th>3</th>\n",
              "      <td>2014</td>\n",
              "      <td>Abril</td>\n",
              "      <td>Worm</td>\n",
              "      <td>3513</td>\n",
              "    </tr>\n",
              "    <tr>\n",
              "      <th>4</th>\n",
              "      <td>2014</td>\n",
              "      <td>Maio</td>\n",
              "      <td>Worm</td>\n",
              "      <td>2857</td>\n",
              "    </tr>\n",
              "    <tr>\n",
              "      <th>...</th>\n",
              "      <td>...</td>\n",
              "      <td>...</td>\n",
              "      <td>...</td>\n",
              "      <td>...</td>\n",
              "    </tr>\n",
              "    <tr>\n",
              "      <th>79</th>\n",
              "      <td>2014</td>\n",
              "      <td>Agosto</td>\n",
              "      <td>Outros</td>\n",
              "      <td>1012</td>\n",
              "    </tr>\n",
              "    <tr>\n",
              "      <th>80</th>\n",
              "      <td>2014</td>\n",
              "      <td>Setembro</td>\n",
              "      <td>Outros</td>\n",
              "      <td>1215</td>\n",
              "    </tr>\n",
              "    <tr>\n",
              "      <th>81</th>\n",
              "      <td>2014</td>\n",
              "      <td>Outubro</td>\n",
              "      <td>Outros</td>\n",
              "      <td>1242</td>\n",
              "    </tr>\n",
              "    <tr>\n",
              "      <th>82</th>\n",
              "      <td>2014</td>\n",
              "      <td>Novembro</td>\n",
              "      <td>Outros</td>\n",
              "      <td>992</td>\n",
              "    </tr>\n",
              "    <tr>\n",
              "      <th>83</th>\n",
              "      <td>2014</td>\n",
              "      <td>Dezembro</td>\n",
              "      <td>Outros</td>\n",
              "      <td>968</td>\n",
              "    </tr>\n",
              "  </tbody>\n",
              "</table>\n",
              "<p>84 rows × 4 columns</p>\n",
              "</div>\n",
              "      <button class=\"colab-df-convert\" onclick=\"convertToInteractive('df-6a743b5c-9d7f-4499-9aa1-a1ffc5333f23')\"\n",
              "              title=\"Convert this dataframe to an interactive table.\"\n",
              "              style=\"display:none;\">\n",
              "        \n",
              "  <svg xmlns=\"http://www.w3.org/2000/svg\" height=\"24px\"viewBox=\"0 0 24 24\"\n",
              "       width=\"24px\">\n",
              "    <path d=\"M0 0h24v24H0V0z\" fill=\"none\"/>\n",
              "    <path d=\"M18.56 5.44l.94 2.06.94-2.06 2.06-.94-2.06-.94-.94-2.06-.94 2.06-2.06.94zm-11 1L8.5 8.5l.94-2.06 2.06-.94-2.06-.94L8.5 2.5l-.94 2.06-2.06.94zm10 10l.94 2.06.94-2.06 2.06-.94-2.06-.94-.94-2.06-.94 2.06-2.06.94z\"/><path d=\"M17.41 7.96l-1.37-1.37c-.4-.4-.92-.59-1.43-.59-.52 0-1.04.2-1.43.59L10.3 9.45l-7.72 7.72c-.78.78-.78 2.05 0 2.83L4 21.41c.39.39.9.59 1.41.59.51 0 1.02-.2 1.41-.59l7.78-7.78 2.81-2.81c.8-.78.8-2.07 0-2.86zM5.41 20L4 18.59l7.72-7.72 1.47 1.35L5.41 20z\"/>\n",
              "  </svg>\n",
              "      </button>\n",
              "      \n",
              "  <style>\n",
              "    .colab-df-container {\n",
              "      display:flex;\n",
              "      flex-wrap:wrap;\n",
              "      gap: 12px;\n",
              "    }\n",
              "\n",
              "    .colab-df-convert {\n",
              "      background-color: #E8F0FE;\n",
              "      border: none;\n",
              "      border-radius: 50%;\n",
              "      cursor: pointer;\n",
              "      display: none;\n",
              "      fill: #1967D2;\n",
              "      height: 32px;\n",
              "      padding: 0 0 0 0;\n",
              "      width: 32px;\n",
              "    }\n",
              "\n",
              "    .colab-df-convert:hover {\n",
              "      background-color: #E2EBFA;\n",
              "      box-shadow: 0px 1px 2px rgba(60, 64, 67, 0.3), 0px 1px 3px 1px rgba(60, 64, 67, 0.15);\n",
              "      fill: #174EA6;\n",
              "    }\n",
              "\n",
              "    [theme=dark] .colab-df-convert {\n",
              "      background-color: #3B4455;\n",
              "      fill: #D2E3FC;\n",
              "    }\n",
              "\n",
              "    [theme=dark] .colab-df-convert:hover {\n",
              "      background-color: #434B5C;\n",
              "      box-shadow: 0px 1px 3px 1px rgba(0, 0, 0, 0.15);\n",
              "      filter: drop-shadow(0px 1px 2px rgba(0, 0, 0, 0.3));\n",
              "      fill: #FFFFFF;\n",
              "    }\n",
              "  </style>\n",
              "\n",
              "      <script>\n",
              "        const buttonEl =\n",
              "          document.querySelector('#df-6a743b5c-9d7f-4499-9aa1-a1ffc5333f23 button.colab-df-convert');\n",
              "        buttonEl.style.display =\n",
              "          google.colab.kernel.accessAllowed ? 'block' : 'none';\n",
              "\n",
              "        async function convertToInteractive(key) {\n",
              "          const element = document.querySelector('#df-6a743b5c-9d7f-4499-9aa1-a1ffc5333f23');\n",
              "          const dataTable =\n",
              "            await google.colab.kernel.invokeFunction('convertToInteractive',\n",
              "                                                     [key], {});\n",
              "          if (!dataTable) return;\n",
              "\n",
              "          const docLinkHtml = 'Like what you see? Visit the ' +\n",
              "            '<a target=\"_blank\" href=https://colab.research.google.com/notebooks/data_table.ipynb>data table notebook</a>'\n",
              "            + ' to learn more about interactive tables.';\n",
              "          element.innerHTML = '';\n",
              "          dataTable['output_type'] = 'display_data';\n",
              "          await google.colab.output.renderOutput(dataTable, element);\n",
              "          const docLink = document.createElement('div');\n",
              "          docLink.innerHTML = docLinkHtml;\n",
              "          element.appendChild(docLink);\n",
              "        }\n",
              "      </script>\n",
              "    </div>\n",
              "  </div>\n",
              "  "
            ],
            "text/plain": [
              "     Ano        Mes Ameaças  Incidentes\n",
              "0   2014    Janeiro    Worm        2853\n",
              "1   2014  Fevereiro    Worm        4163\n",
              "2   2014      Março    Worm        9238\n",
              "3   2014      Abril    Worm        3513\n",
              "4   2014       Maio    Worm        2857\n",
              "..   ...        ...     ...         ...\n",
              "79  2014     Agosto  Outros        1012\n",
              "80  2014   Setembro  Outros        1215\n",
              "81  2014    Outubro  Outros        1242\n",
              "82  2014   Novembro  Outros         992\n",
              "83  2014   Dezembro  Outros         968\n",
              "\n",
              "[84 rows x 4 columns]"
            ]
          },
          "execution_count": 10,
          "metadata": {},
          "output_type": "execute_result"
        }
      ],
      "source": [
        "incidentes_2014_melted = pd.melt(incidentes_2014, \n",
        "                                 id_vars = ['Ano', 'Mes'],\n",
        "                                 value_vars = ['Worm', 'DOS', 'Invasao', 'Web', 'Scan', 'Fraude', 'Outros'],\n",
        "                                 var_name = 'Ameaças',\n",
        "                                 value_name = 'Incidentes')\n",
        "\n",
        "incidentes_2014_melted\n"
      ]
    },
    {
      "cell_type": "markdown",
      "metadata": {
        "id": "bSFSl8dIbhsM"
      },
      "source": [
        "## Aqui foi plotado um gráfico que mostra os tipos de Ameaças e o total de incidentes ocorridos no ano de 2014 em ordem crescente."
      ]
    },
    {
      "cell_type": "code",
      "execution_count": 11,
      "metadata": {
        "colab": {
          "base_uri": "https://localhost:8080/",
          "height": 325
        },
        "id": "8plMaEf_Wmvp",
        "outputId": "3ba72a69-daa5-4a27-e900-0260be00e54e"
      },
      "outputs": [
        {
          "name": "stdout",
          "output_type": "stream",
          "text": [
            "Total de Incidentes no ano de 2014: 1047031\n"
          ]
        },
        {
          "data": {
            "image/png": "[encoded data removed]",
            "text/plain": [
              "<Figure size 432x288 with 1 Axes>"
            ]
          },
          "metadata": {
            "needs_background": "light"
          },
          "output_type": "display_data"
        }
      ],
      "source": [
        "incidentes_2014_melted.groupby(\"Ameaças\")[\"Incidentes\"].sum().sort_values().plot(kind=\"bar\")\n",
        "inc_2014_total = incidentes_2014_melted.Incidentes.sum()\n",
        "print(\"Total de Incidentes no ano de 2014: {}\".format(inc_2014_total))    "
      ]
    },
    {
      "cell_type": "markdown",
      "metadata": {
        "id": "NEmOmBNy0FCm"
      },
      "source": [
        "## Feito uma análise gráfica, onde foi mostrada a quantidade total de Incidentes para cada tipo de ameaça ao longo dos 12 meses do ano de 2014."
      ]
    },
    {
      "cell_type": "code",
      "execution_count": 12,
      "metadata": {
        "colab": {
          "base_uri": "https://localhost:8080/",
          "height": 723
        },
        "id": "BmUS-62yd7ez",
        "outputId": "968a73f4-c2eb-4452-ced1-82872bd79590"
      },
      "outputs": [
        {
          "data": {
            "image/png": "[encoded data removed]",
            "text/plain": [
              "<Figure size 1080x720 with 1 Axes>"
            ]
          },
          "metadata": {},
          "output_type": "display_data"
        }
      ],
      "source": [
        "# Definindo temas\n",
        "sns.set_theme(context = \"notebook\", \n",
        "              font_scale = 1.5,\n",
        "              rc={'figure.facecolor':'darkgray', 'axes.facecolor':'gainsboro'})\n",
        "\n",
        "# Criando figura\n",
        "plt.figure(figsize=(15, 10))\n",
        "\n",
        "# Plotando os dados com um gráfico de barras\n",
        "fig = sns.barplot(data=incidentes_2014_melted,\n",
        "                  x='Mes',\n",
        "                  y = 'Incidentes',\n",
        "                  ci = False,\n",
        "                  hue = 'Ameaças',\n",
        "                  hue_order = ['Worm', 'DOS', 'Invasao', 'Web', 'Scan', 'Fraude', 'Outros'],\n",
        "                  palette = 'cubehelix',\n",
        "                  saturation = 0.5,\n",
        "                  alpha = 0.7)\n",
        "\n",
        "# Tamanho da legenda\n",
        "plt.legend(fontsize  = 12)\n",
        "\n",
        "# Configurações do eixo X\n",
        "plt.xlabel(\"\")\n",
        "plt.xticks(rotation=45)\n",
        "\n",
        "# Configurações do eixo Y\n",
        "plt.yticks(ticks = range(0,225000, 25000),\n",
        "           labels = ['0', '25 mil', '50 mil', '75 mil', '100 mil', '125 mil', '150 mil', '175 mil', '200 mil'])\n",
        "plt.ylabel(\"Número de incidentes reportados\", weight='semibold')\n",
        "\n",
        "# Configurações do título e subtítulo\n",
        "plt.suptitle(\"Incidentes de Segurança da Informação no Brasil\", y=0.95, fontsize=18, weight='bold', horizontalalignment='center')\n",
        "plt.title(\"Casos reportados no ano de 2014\", y=1.01, fontsize=16, weight='semibold', horizontalalignment='center')\n",
        "\n",
        "\n",
        "# Textos auxiliares no gráfico\n",
        "plt.text(12, -35000, \"Fonte dos dados: CERT.br - Acesso em 17 de maio de 2022\", \n",
        "         horizontalalignment='right',\n",
        "         va = 'baseline',\n",
        "         size=13, color='dimgray')\n",
        "\n",
        "plt.text(-1.5, -35000, \"Gráfico criado utilizando a biblioteca Seaborn em Python\", \n",
        "         horizontalalignment='left',\n",
        "         va = 'baseline',\n",
        "         size=13, color='dimgray')\n",
        "\n",
        "# Salva a figura\n",
        "plt.savefig(\"incidentes_2019_seaborn.png\")\n",
        "\n",
        "# Mostra o gráfico\n",
        "plt.show()"
      ]
    },
    {
      "cell_type": "markdown",
      "metadata": {
        "id": "ZBT_omk5gVMD"
      },
      "source": [
        "## Resumo estatístico dos incidentes reportados\n",
        "\n",
        "Após a análise descrita, foi percebido que há outlliers no número de incidentes das ameaças  (DOS e Invasão) nos meses de Agosto, Setembro e Outubro. E para confirmar isso, foi feito os seguintes passos:\n",
        "\n",
        "* Resumo estatístico por meio do método `describe()`\n",
        "* Plotado `boxplots` para a variável."
      ]
    },
    {
      "cell_type": "code",
      "execution_count": 13,
      "metadata": {
        "colab": {
          "base_uri": "https://localhost:8080/",
          "height": 300
        },
        "id": "TDOJU40JgWAa",
        "outputId": "c2ba9469-ca96-48a9-f576-35b871de9da9"
      },
      "outputs": [
        {
          "data": {
            "text/html": [
              "\n",
              "  <div id=\"df-9ac69652-44b3-4a4e-8c6c-9cc0fe74a588\">\n",
              "    <div class=\"colab-df-container\">\n",
              "      <div>\n",
              "<style scoped>\n",
              "    .dataframe tbody tr th:only-of-type {\n",
              "        vertical-align: middle;\n",
              "    }\n",
              "\n",
              "    .dataframe tbody tr th {\n",
              "        vertical-align: top;\n",
              "    }\n",
              "\n",
              "    .dataframe thead th {\n",
              "        text-align: right;\n",
              "    }\n",
              "</style>\n",
              "<table border=\"1\" class=\"dataframe\">\n",
              "  <thead>\n",
              "    <tr style=\"text-align: right;\">\n",
              "      <th></th>\n",
              "      <th>Incidentes</th>\n",
              "    </tr>\n",
              "  </thead>\n",
              "  <tbody>\n",
              "    <tr>\n",
              "      <th>count</th>\n",
              "      <td>84.000000</td>\n",
              "    </tr>\n",
              "    <tr>\n",
              "      <th>mean</th>\n",
              "      <td>12464.654762</td>\n",
              "    </tr>\n",
              "    <tr>\n",
              "      <th>std</th>\n",
              "      <td>22533.558849</td>\n",
              "    </tr>\n",
              "    <tr>\n",
              "      <th>min</th>\n",
              "      <td>187.000000</td>\n",
              "    </tr>\n",
              "    <tr>\n",
              "      <th>25%</th>\n",
              "      <td>1263.500000</td>\n",
              "    </tr>\n",
              "    <tr>\n",
              "      <th>50%</th>\n",
              "      <td>3094.000000</td>\n",
              "    </tr>\n",
              "    <tr>\n",
              "      <th>75%</th>\n",
              "      <td>15597.500000</td>\n",
              "    </tr>\n",
              "    <tr>\n",
              "      <th>max</th>\n",
              "      <td>130108.000000</td>\n",
              "    </tr>\n",
              "  </tbody>\n",
              "</table>\n",
              "</div>\n",
              "      <button class=\"colab-df-convert\" onclick=\"convertToInteractive('df-9ac69652-44b3-4a4e-8c6c-9cc0fe74a588')\"\n",
              "              title=\"Convert this dataframe to an interactive table.\"\n",
              "              style=\"display:none;\">\n",
              "        \n",
              "  <svg xmlns=\"http://www.w3.org/2000/svg\" height=\"24px\"viewBox=\"0 0 24 24\"\n",
              "       width=\"24px\">\n",
              "    <path d=\"M0 0h24v24H0V0z\" fill=\"none\"/>\n",
              "    <path d=\"M18.56 5.44l.94 2.06.94-2.06 2.06-.94-2.06-.94-.94-2.06-.94 2.06-2.06.94zm-11 1L8.5 8.5l.94-2.06 2.06-.94-2.06-.94L8.5 2.5l-.94 2.06-2.06.94zm10 10l.94 2.06.94-2.06 2.06-.94-2.06-.94-.94-2.06-.94 2.06-2.06.94z\"/><path d=\"M17.41 7.96l-1.37-1.37c-.4-.4-.92-.59-1.43-.59-.52 0-1.04.2-1.43.59L10.3 9.45l-7.72 7.72c-.78.78-.78 2.05 0 2.83L4 21.41c.39.39.9.59 1.41.59.51 0 1.02-.2 1.41-.59l7.78-7.78 2.81-2.81c.8-.78.8-2.07 0-2.86zM5.41 20L4 18.59l7.72-7.72 1.47 1.35L5.41 20z\"/>\n",
              "  </svg>\n",
              "      </button>\n",
              "      \n",
              "  <style>\n",
              "    .colab-df-container {\n",
              "      display:flex;\n",
              "      flex-wrap:wrap;\n",
              "      gap: 12px;\n",
              "    }\n",
              "\n",
              "    .colab-df-convert {\n",
              "      background-color: #E8F0FE;\n",
              "      border: none;\n",
              "      border-radius: 50%;\n",
              "      cursor: pointer;\n",
              "      display: none;\n",
              "      fill: #1967D2;\n",
              "      height: 32px;\n",
              "      padding: 0 0 0 0;\n",
              "      width: 32px;\n",
              "    }\n",
              "\n",
              "    .colab-df-convert:hover {\n",
              "      background-color: #E2EBFA;\n",
              "      box-shadow: 0px 1px 2px rgba(60, 64, 67, 0.3), 0px 1px 3px 1px rgba(60, 64, 67, 0.15);\n",
              "      fill: #174EA6;\n",
              "    }\n",
              "\n",
              "    [theme=dark] .colab-df-convert {\n",
              "      background-color: #3B4455;\n",
              "      fill: #D2E3FC;\n",
              "    }\n",
              "\n",
              "    [theme=dark] .colab-df-convert:hover {\n",
              "      background-color: #434B5C;\n",
              "      box-shadow: 0px 1px 3px 1px rgba(0, 0, 0, 0.15);\n",
              "      filter: drop-shadow(0px 1px 2px rgba(0, 0, 0, 0.3));\n",
              "      fill: #FFFFFF;\n",
              "    }\n",
              "  </style>\n",
              "\n",
              "      <script>\n",
              "        const buttonEl =\n",
              "          document.querySelector('#df-9ac69652-44b3-4a4e-8c6c-9cc0fe74a588 button.colab-df-convert');\n",
              "        buttonEl.style.display =\n",
              "          google.colab.kernel.accessAllowed ? 'block' : 'none';\n",
              "\n",
              "        async function convertToInteractive(key) {\n",
              "          const element = document.querySelector('#df-9ac69652-44b3-4a4e-8c6c-9cc0fe74a588');\n",
              "          const dataTable =\n",
              "            await google.colab.kernel.invokeFunction('convertToInteractive',\n",
              "                                                     [key], {});\n",
              "          if (!dataTable) return;\n",
              "\n",
              "          const docLinkHtml = 'Like what you see? Visit the ' +\n",
              "            '<a target=\"_blank\" href=https://colab.research.google.com/notebooks/data_table.ipynb>data table notebook</a>'\n",
              "            + ' to learn more about interactive tables.';\n",
              "          element.innerHTML = '';\n",
              "          dataTable['output_type'] = 'display_data';\n",
              "          await google.colab.output.renderOutput(dataTable, element);\n",
              "          const docLink = document.createElement('div');\n",
              "          docLink.innerHTML = docLinkHtml;\n",
              "          element.appendChild(docLink);\n",
              "        }\n",
              "      </script>\n",
              "    </div>\n",
              "  </div>\n",
              "  "
            ],
            "text/plain": [
              "          Incidentes\n",
              "count      84.000000\n",
              "mean    12464.654762\n",
              "std     22533.558849\n",
              "min       187.000000\n",
              "25%      1263.500000\n",
              "50%      3094.000000\n",
              "75%     15597.500000\n",
              "max    130108.000000"
            ]
          },
          "execution_count": 13,
          "metadata": {},
          "output_type": "execute_result"
        }
      ],
      "source": [
        "# Resumo estatístico\n",
        "\n",
        "incidentes_2014_melted[['Incidentes']].describe()\n"
      ]
    },
    {
      "cell_type": "markdown",
      "metadata": {
        "id": "D-Yo8Nvq44iv"
      },
      "source": [
        "Olhando o resumo estatístico acima, pode-se confirmar algumas hipóteses, como:\n",
        "* O valor máximo 130108.00 é muito maior quando comparado com a mediana 3094.00. A mesma lógica serve para o valor mínimo 187.00.\n",
        "\n",
        "* A variável Incidentes possui 75% do valor abaixo de 15597.50, porém, seu valor máximo é 130108.00"
      ]
    },
    {
      "cell_type": "code",
      "execution_count": 14,
      "metadata": {
        "colab": {
          "base_uri": "https://localhost:8080/",
          "height": 244
        },
        "id": "SjojwiPMiYZL",
        "outputId": "74fe7164-36c2-4ca8-cc8f-29fe7cdce7b2"
      },
      "outputs": [
        {
          "data": {
            "image/png": "[encoded data removed]",
            "text/plain": [
              "<Figure size 1080x216 with 1 Axes>"
            ]
          },
          "metadata": {},
          "output_type": "display_data"
        }
      ],
      "source": [
        "# Boxplots\n",
        "\n",
        "incidentes_2014_melted.Incidentes.plot(kind='box', vert=False, figsize=(15,3))\n",
        "\n",
        "# Configurações do eixo Y\n",
        "plt.xticks(ticks = range(0,225000, 25000),\n",
        "           labels = ['0', '25 mil', '50 mil', '75 mil', '100 mil', '125 mil', '150 mil', '175 mil', '200 mil'])\n",
        "plt.xlabel(\"Número de incidentes reportados\", weight='semibold')\n",
        "\n",
        "plt.show()"
      ]
    },
    {
      "cell_type": "markdown",
      "metadata": {
        "id": "aQtg9-t5HMXB"
      },
      "source": [
        "* Olhando detalhadamente para o Box, percebe-se que os pontos descritos como outlliers são exatamente os valores mostrados no gráfico de Incidentes de Segurança nos meses de Agosto, Setembro e Outubro."
      ]
    },
    {
      "cell_type": "markdown",
      "metadata": {
        "id": "0sYZ8RwwRIBk"
      },
      "source": [
        "## Conclusões\n",
        "\n",
        "Apatir dos dados estudados, percebe-se que no ano de 2014 o total de incidentes reportados foram considerados destaques dentre os outros. Isso pôde ser comprovado no gráfico (Indcidentes de Segurança da Informação no Brasil no ano de 2014) onde foram comparados todos os ataques nos anos entre 2010-2019. Em seguida, foi visto que nos meses de agosto, setembro e outubro os números de incidentes extrapolaram em relação aos demais, com destaque para as ameaças DOS e Fraudes, considerando assim possível presença de outlliers. Com o objetivo de ver, com mais clareza, esses pontos que se diferenciavam dos demais, foi realizado um resumo estatístico e plotado o boxplot para a variável `Incidente`. Essa ação possibilitou verificar e confirmar presença de outlliers.\n",
        "\n",
        "Fato interessante a ser dito nessa análise exoploratória, foi a de que as notícias divulgadas na Abranet (Associação Brasileira de Internet) e no CERT.br (Centro de Estudos, Resposta e Tratamento de Incidentes de Segurança no Brasil) foram condizentes essa análisse realizada.\n",
        "\n",
        "Verificar links abaixo:\n",
        "\n",
        " - https://www.abranet.org.br/Noticias/Incidentes-de-seguranca-aumentam-197%25-em-2014-na-comparacao-com-o-ano-anterior-539.html?UserActiveTemplate=site\n",
        "\n",
        "- https://www.cgi.br/noticia/releases/cert-br-registra-aumento-de-ataques-de-negacao-de-servico-em-2014/\n",
        "\n",
        " \n"
      ]
    }
  ],
  "metadata": {
    "colab": {
      "provenance": []
    },
    "kernelspec": {
      "display_name": "Python 3.10.8 64-bit",
      "language": "python",
      "name": "python3"
    },
    "language_info": {
      "name": "python",
      "version": "3.10.8"
    },
    "vscode": {
      "interpreter": {
        "hash": "162ec9523cc8495716994a4a9f87ba64538f8d6e95b20bf7687a561308eeeaca"
      }
    }
  },
  "nbformat": 4,
  "nbformat_minor": 0
}
